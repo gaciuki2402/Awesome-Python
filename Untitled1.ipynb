{
  "nbformat": 4,
  "nbformat_minor": 0,
  "metadata": {
    "colab": {
      "provenance": [],
      "authorship_tag": "ABX9TyN/jdjRDsthusv7lmVBSUEx",
      "include_colab_link": true
    },
    "kernelspec": {
      "name": "python3",
      "display_name": "Python 3"
    },
    "language_info": {
      "name": "python"
    }
  },
  "cells": [
    {
      "cell_type": "markdown",
      "metadata": {
        "id": "view-in-github",
        "colab_type": "text"
      },
      "source": [
        "<a href=\"https://colab.research.google.com/github/gaciuki2402/Awesome-Python/blob/main/Untitled1.ipynb\" target=\"_parent\"><img src=\"https://colab.research.google.com/assets/colab-badge.svg\" alt=\"Open In Colab\"/></a>"
      ]
    },
    {
      "cell_type": "code",
      "execution_count": 2,
      "metadata": {
        "id": "6EImZXXCXM1B"
      },
      "outputs": [],
      "source": [
        "import pandas as pd\n",
        "\n",
        "#create a sample dataframe\n",
        "df = pd.DataFrame({\n",
        "    'A': [1, 2, 3],\n",
        "    'B': [4,5, 6]\n",
        "})\n"
      ]
    },
    {
      "cell_type": "code",
      "source": [
        "#adding new column with  A constant\n",
        "df['c'] = 10, 20, 30\n",
        "print(df)"
      ],
      "metadata": {
        "colab": {
          "base_uri": "https://localhost:8080/"
        },
        "id": "VtdNIdv3X4RQ",
        "outputId": "d2025f40-4fac-4247-8ef9-54d07ee636e7"
      },
      "execution_count": 4,
      "outputs": [
        {
          "output_type": "stream",
          "name": "stdout",
          "text": [
            "   A  B   c\n",
            "0  1  4  10\n",
            "1  2  5  20\n",
            "2  3  6  30\n"
          ]
        }
      ]
    },
    {
      "cell_type": "code",
      "source": [
        "#combining the columns\n",
        "df['D'] = df['A'] + df['B']\n",
        "print(df)"
      ],
      "metadata": {
        "colab": {
          "base_uri": "https://localhost:8080/"
        },
        "id": "BL3VjiFcX4fp",
        "outputId": "08fa0843-070b-48eb-cd77-6199da69ac8d"
      },
      "execution_count": 5,
      "outputs": [
        {
          "output_type": "stream",
          "name": "stdout",
          "text": [
            "   A  B   c  D\n",
            "0  1  4  10  5\n",
            "1  2  5  20  7\n",
            "2  3  6  30  9\n"
          ]
        }
      ]
    },
    {
      "cell_type": "code",
      "source": [
        "#adding multiple columns at once\n",
        "df = df.assign(E = [10, 11, 12], F=[17, 19, 58])\n",
        "print(df)"
      ],
      "metadata": {
        "colab": {
          "base_uri": "https://localhost:8080/"
        },
        "id": "gsb3eZZCZC0b",
        "outputId": "7d137641-b5b0-4651-e938-1dd5f3d33e62"
      },
      "execution_count": 6,
      "outputs": [
        {
          "output_type": "stream",
          "name": "stdout",
          "text": [
            "   A  B   c  D   E   F\n",
            "0  1  4  10  5  10  17\n",
            "1  2  5  20  7  11  19\n",
            "2  3  6  30  9  12  58\n"
          ]
        }
      ]
    },
    {
      "cell_type": "code",
      "source": [
        "import sqlite3\n",
        "# connect to SQLite database or create it if it doesn't exist\n",
        "conn = sqlite3.connect('example.db')\n",
        "print( conn)"
      ],
      "metadata": {
        "colab": {
          "base_uri": "https://localhost:8080/"
        },
        "id": "rLN_fR3-ZDC2",
        "outputId": "79f8255e-f6dc-4d48-ce1c-a90cfe19e647"
      },
      "execution_count": 14,
      "outputs": [
        {
          "output_type": "stream",
          "name": "stdout",
          "text": [
            "<sqlite3.Connection object at 0x7d48059f2b40>\n"
          ]
        }
      ]
    },
    {
      "cell_type": "code",
      "source": [
        "#create a table\n",
        "cursor = conn.cursor()\n",
        "cursor.execute('''\n",
        "  CREATE TABLE IF NOT EXISTS mytable (\n",
        "    id INTEGER PRIMARY KEY,\n",
        "    name TEXT,\n",
        "    age INTEGER\n",
        "  )\n",
        "''')\n",
        "conn.commit()"
      ],
      "metadata": {
        "id": "E-OY98i0aCFn"
      },
      "execution_count": 17,
      "outputs": []
    },
    {
      "cell_type": "code",
      "source": [
        "#insert data into the table\n",
        "cursor.execute('''\n",
        "  INSERT INTO mytable (name, age)\n",
        "  VALUES ('Alice', 23),\n",
        "         ('Bob', 25),\n",
        "         ('Charlie', 27)\n",
        "''')\n",
        "conn.commit()"
      ],
      "metadata": {
        "id": "2NCD1ypjaCIe"
      },
      "execution_count": 18,
      "outputs": []
    },
    {
      "cell_type": "code",
      "source": [
        "#query data from the table\n",
        "cursor.execute('SELECT * FROM mytable')\n",
        "\n",
        "#fetch all rows\n",
        "rows = cursor.fetchall()\n",
        "print(rows)"
      ],
      "metadata": {
        "colab": {
          "base_uri": "https://localhost:8080/"
        },
        "id": "kznvoWHSdBm6",
        "outputId": "91d0ee97-ab10-4764-c062-b9cee50375e8"
      },
      "execution_count": 19,
      "outputs": [
        {
          "output_type": "stream",
          "name": "stdout",
          "text": [
            "[(1, 'Alice', 23), (2, 'Bob', 25), (3, 'Charlie', 27)]\n"
          ]
        }
      ]
    },
    {
      "cell_type": "code",
      "source": [],
      "metadata": {
        "id": "g2-zyrrwdBzq"
      },
      "execution_count": null,
      "outputs": []
    }
  ]
}